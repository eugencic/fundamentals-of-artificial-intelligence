{
  "nbformat": 4,
  "nbformat_minor": 0,
  "metadata": {
    "colab": {
      "provenance": []
    },
    "kernelspec": {
      "name": "python3",
      "display_name": "Python 3"
    },
    "language_info": {
      "name": "python"
    }
  },
  "cells": [
    {
      "cell_type": "markdown",
      "source": [
        "---\n",
        "\n",
        "\n",
        "**Fundamentals of Artificial Intelligence**\n",
        "\n",
        "Laboratory work Nr.2: Exploratory Data Analysis - pandas & matplotlib\n",
        "\n",
        "Author: Eugeniu Popa, std.gr. FAF-202\n",
        "\n",
        "Supervisor: Diana Marusic\n",
        "\n",
        "\n",
        "---\n"
      ],
      "metadata": {
        "id": "cBckHsrv6p5g"
      }
    },
    {
      "cell_type": "code",
      "source": [
        "# Task 1: Find the store that has the maximum sale recorded. Print the store id, date and the sales on that day.\n",
        "\n",
        "import pandas as pd\n",
        "\n",
        "# Load the train data\n",
        "train_data = pd.read_csv('train.csv')\n",
        "\n",
        "# Find the store with maximum sales\n",
        "max_sale_store = train_data[train_data['Sales'] == train_data['Sales'].max()]\n",
        "\n",
        "# Store the values in variables\n",
        "store_id = max_sale_store['Store'].values[0]\n",
        "date = max_sale_store['Date'].values[0]\n",
        "sales = max_sale_store['Sales'].values[0]\n",
        "\n",
        "# Create a table-like output\n",
        "output = f\"{'Store ID':<10} {'Date':<12} {'Sales':<10}\"\n",
        "output += f\"\\n{store_id:<10} {date:<12} {sales:<10}\"\n",
        "\n",
        "print(output)\n"
      ],
      "metadata": {
        "id": "JYEMvkGzrqEe"
      },
      "execution_count": null,
      "outputs": []
    },
    {
      "cell_type": "code",
      "source": [
        "# Task 2: Find the store(s) that has/ve the least possible and maximum possible competition distance(s).\n",
        "\n",
        "# Load the store data\n",
        "store_data = pd.read_csv('store.csv')\n",
        "\n",
        "# Find the store(s) with the least and maximum competition distance\n",
        "min_distance_store = store_data[store_data['CompetitionDistance'] == store_data['CompetitionDistance'].min()]\n",
        "max_distance_store = store_data[store_data['CompetitionDistance'] == store_data['CompetitionDistance'].max()]\n",
        "\n",
        "# Print the store id(s) and competition distance(s)\n",
        "print(\"Store(s) with the least competition distance:\")\n",
        "print(min_distance_store[['Store', 'CompetitionDistance']])\n",
        "\n",
        "print(\"\\nStore(s) with the maximum competition distance:\")\n",
        "print(max_distance_store[['Store', 'CompetitionDistance']])\n"
      ],
      "metadata": {
        "id": "04ppqCWHsluP"
      },
      "execution_count": null,
      "outputs": []
    },
    {
      "cell_type": "code",
      "source": [
        "# Task 3: Check if there are any missing values in the dataset and output the number of missing values per each column.\n",
        "\n",
        "# Check for missing values in the train_data and store_data dataframes\n",
        "missing_values_train = train_data.isnull().sum()\n",
        "missing_values_store = store_data.isnull().sum()\n",
        "\n",
        "# Create a table-like output for missing values in train_data\n",
        "output_train = f\"{'Column Name':<20} {'Missing Values':<15}\"\n",
        "for column, missing_count in missing_values_train.items():\n",
        "    output_train += f\"\\n{column:<20} {missing_count:<15}\"\n",
        "\n",
        "# Create a table-like output for missing values in store_data\n",
        "output_store = f\"{'Column Name':<20} {'Missing Values':<15}\"\n",
        "for column, missing_count in missing_values_store.items():\n",
        "    output_store += f\"\\n{column:<20} {missing_count:<15}\"\n",
        "\n",
        "print(\"Missing values in train_data:\")\n",
        "print(output_train)\n",
        "\n",
        "print(\"\\nMissing values in store_data:\")\n",
        "print(output_store)\n"
      ],
      "metadata": {
        "id": "sbUz_aNmwF_8"
      },
      "execution_count": null,
      "outputs": []
    },
    {
      "cell_type": "code",
      "source": [
        "# Task 4: Plot the monthly mean of sales across all stores using matplotlib.\n",
        "\n",
        "import matplotlib.pyplot as plt\n",
        "\n",
        "# Convert the 'Date' column to datetime\n",
        "train_data['Date'] = pd.to_datetime(train_data['Date'])\n",
        "\n",
        "# Extract the month and year from the 'Date' column\n",
        "train_data['Month'] = train_data['Date'].dt.month\n",
        "train_data['Year'] = train_data['Date'].dt.year\n",
        "\n",
        "# Group by month and year, and calculate the mean sales\n",
        "monthly_mean_sales = train_data.groupby(['Year', 'Month'])['Sales'].mean()\n",
        "\n",
        "# Create a plot\n",
        "plt.figure(figsize=(10, 6))\n",
        "monthly_mean_sales.plot(marker='o', linestyle='-')\n",
        "plt.xlabel('Month')\n",
        "plt.ylabel('Mean Sales')\n",
        "plt.title('Monthly Mean Sales Across All Stores')\n",
        "plt.grid(True)\n",
        "plt.show()\n"
      ],
      "metadata": {
        "id": "8xFKM_wJxRRf"
      },
      "execution_count": null,
      "outputs": []
    },
    {
      "cell_type": "code",
      "source": [
        "# Task 5: Which store type (’a’,’b’ etc.) has had the most sales?\n",
        "\n",
        "# Merge the train_data and store_data dataframes on the 'Store' column\n",
        "merged_data = train_data.merge(store_data, on='Store', how='inner')\n",
        "\n",
        "# Group by store type and calculate total sales\n",
        "store_type_sales = merged_data.groupby('StoreType')['Sales'].sum()\n",
        "\n",
        "# Find the store type with the most sales\n",
        "most_sales_store_type = store_type_sales.idxmax()\n",
        "print(\"Store type with the most sales:\", most_sales_store_type)\n"
      ],
      "metadata": {
        "id": "3zsqxhAjyDQN"
      },
      "execution_count": null,
      "outputs": []
    },
    {
      "cell_type": "code",
      "source": [
        "# Task 6: What is the difference in the mean of sales (across all stores) when offering a Promo and not? Plot this data with matplotlib.\n",
        "\n",
        "# Group by Promo and calculate the mean sales\n",
        "promo_mean_sales = train_data.groupby('Promo')['Sales'].mean()\n",
        "\n",
        "# Calculate the differences in mean sales between Promo and no Promo\n",
        "promo_diffs = promo_mean_sales.diff()\n",
        "\n",
        "# Create a bar plot\n",
        "plt.figure(figsize=(10, 6))\n",
        "\n",
        "# Plot the mean sales for Promo and no Promo\n",
        "promo_mean_sales.plot(kind='bar', label='Mean Sales', color='blue', alpha=0.7)\n",
        "\n",
        "# Plot the difference in mean sales as a separate column\n",
        "promo_diffs.plot(kind='bar', label='Mean Sales Difference', color='green', alpha=0.7)\n",
        "\n",
        "plt.xlabel('Promo')\n",
        "plt.ylabel('Mean Sales')\n",
        "plt.title('Mean Sales with and without Promo')\n",
        "plt.xticks([0, 1], ['No Promo', 'Promo'], rotation=0)\n",
        "plt.legend()\n",
        "plt.grid(axis='y')\n",
        "plt.show()\n"
      ],
      "metadata": {
        "id": "ZJzz2NLlz9u9"
      },
      "execution_count": null,
      "outputs": []
    },
    {
      "cell_type": "code",
      "source": [
        "# Task 7: For the store with id 1, plot the mean sales per each day of week in a pie chart by using matplotlib.\n",
        "\n",
        "# Filter data for store ID 1\n",
        "store_1_data = train_data[train_data['Store'] == 1]\n",
        "\n",
        "# Group by day of the week and calculate the mean sales\n",
        "mean_sales_per_day = store_1_data.groupby(store_1_data['Date'].dt.dayofweek)['Sales'].mean()\n",
        "\n",
        "# Create a pie chart\n",
        "plt.figure(figsize=(6, 6))\n",
        "plt.pie(mean_sales_per_day, labels=['Mon', 'Tue', 'Wed', 'Thu', 'Fri', 'Sat', 'Sun'], autopct='%1.1f%%')\n",
        "plt.title('Mean Sales per Day of the Week for Store 1')\n",
        "plt.show()\n"
      ],
      "metadata": {
        "id": "gJC3cveT1S03"
      },
      "execution_count": null,
      "outputs": []
    },
    {
      "cell_type": "code",
      "source": [
        "# Task 8: Plot the mean of sales across all the stores for each day of the week recorded in the dataset, by using matplotlib.\n",
        "\n",
        "# Group by day of the week and calculate the mean sales\n",
        "day_of_week_mean_sales = train_data.groupby('DayOfWeek')['Sales'].mean()\n",
        "\n",
        "# Create a bar plot\n",
        "plt.figure(figsize=(10, 8))\n",
        "day_of_week_mean_sales.plot(kind='bar', color='blue', alpha=0.7)\n",
        "\n",
        "# Add labels and title\n",
        "plt.xlabel('Day of the Week')\n",
        "plt.ylabel('Mean Sales')\n",
        "plt.title('Mean Sales for Each Day of the Week')\n",
        "\n",
        "# Customize the x-axis labels\n",
        "day_labels = ['Monday', 'Tuesday', 'Wednesday', 'Thursday', 'Friday', 'Saturday', 'Sunday']\n",
        "plt.xticks(range(7), day_labels, rotation=0)\n",
        "\n",
        "# Display the values for each day on the plot\n",
        "for i, v in enumerate(day_of_week_mean_sales):\n",
        "    plt.text(i, v, f'{v:.2f}', ha='center', va='bottom', fontsize=10)\n",
        "\n",
        "plt.grid(axis='y')\n",
        "plt.show()\n"
      ],
      "metadata": {
        "id": "PU4vL6Gh1hoF"
      },
      "execution_count": null,
      "outputs": []
    },
    {
      "cell_type": "code",
      "source": [
        "# Task 9: For the first 10 stores (first 10 ids), draw boxplots of their sales by using matplotlib.\n",
        "\n",
        "# Filter data for the first 10 stores\n",
        "first_10_stores_data = train_data[train_data['Store'].isin(range(1, 11))]\n",
        "\n",
        "# Create boxplots of sales for the first 10 stores\n",
        "plt.figure(figsize=(20, 18))\n",
        "boxplot = plt.boxplot([first_10_stores_data[first_10_stores_data['Store'] == i]['Sales'] for i in range(1, 11)], labels=range(1, 11))\n",
        "plt.xlabel('Store')\n",
        "plt.ylabel('Sales')\n",
        "plt.title('Boxplots of Sales for the First 10 Stores')\n",
        "plt.grid(True)\n",
        "\n",
        "# Print the values of sales for each store\n",
        "for i, values in enumerate(boxplot['boxes']):\n",
        "    store_sales = first_10_stores_data[first_10_stores_data['Store'] == i + 1]['Sales']\n",
        "    plt.text(i + 1, max(store_sales) + 200, f'Mean: {store_sales.mean():.2f}\\nMin: {store_sales.min()}\\nMax: {store_sales.max()}', ha='center', va='bottom')\n",
        "\n",
        "plt.show()\n"
      ],
      "metadata": {
        "id": "xp202M1o3E4D"
      },
      "execution_count": null,
      "outputs": []
    }
  ]
}